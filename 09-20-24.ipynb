{
 "cells": [
  {
   "cell_type": "code",
   "execution_count": 7,
   "id": "b65beb0a-0843-414e-be08-eee059adfff2",
   "metadata": {},
   "outputs": [
    {
     "name": "stdout",
     "output_type": "stream",
     "text": [
      "[1 2 3]\n"
     ]
    }
   ],
   "source": [
    "#from python lists\n",
    "import numpy as np\n",
    "array = np.array([1,2,3])\n",
    "print(array)"
   ]
  },
  {
   "cell_type": "code",
   "execution_count": 17,
   "id": "4ece73ea-043c-491c-a32c-1e5f36809f22",
   "metadata": {},
   "outputs": [
    {
     "name": "stdout",
     "output_type": "stream",
     "text": [
      "[[0. 0. 0.]\n",
      " [0. 0. 0.]] [[1. 1.]\n",
      " [1. 1.]\n",
      " [1. 1.]]\n"
     ]
    }
   ],
   "source": [
    "#zeros and ones arrays\n",
    "import numpy as np\n",
    "zeros = np.zeros((2,3)) #2 and 3 are filled with zeros\n",
    "ones = np.ones((3,2)) #4 and 5 are filled with ones\n",
    "print(zeros,ones)"
   ]
  },
  {
   "cell_type": "code",
   "execution_count": 19,
   "id": "5d55c437-6e2d-458a-9a78-a55317f22d63",
   "metadata": {},
   "outputs": [
    {
     "name": "stdout",
     "output_type": "stream",
     "text": [
      "[[7 7]\n",
      " [7 7]]\n"
     ]
    }
   ],
   "source": [
    "#array of a constant value\n",
    "import numpy as np\n",
    "full_array = np.full((2,2),7) #2x2 array are filled with 7\n",
    "print(full_array)"
   ]
  },
  {
   "cell_type": "code",
   "execution_count": 31,
   "id": "62793d07-24aa-4c4c-b279-fbc89a289905",
   "metadata": {},
   "outputs": [
    {
     "name": "stdout",
     "output_type": "stream",
     "text": [
      "[0 2 4 6 8]\n"
     ]
    }
   ],
   "source": [
    "#Range of values\n",
    "import numpy as np\n",
    "range_array = np.arange(0,10,2) #array of values from 0 to 10 with step 2\n",
    "print(range_array)"
   ]
  },
  {
   "cell_type": "code",
   "execution_count": 33,
   "id": "dca6a6af-3c01-439d-a636-90925c76d828",
   "metadata": {},
   "outputs": [
    {
     "name": "stdout",
     "output_type": "stream",
     "text": [
      "[[0.63573344 0.34189245]\n",
      " [0.41059203 0.64902153]]\n"
     ]
    }
   ],
   "source": [
    "#linspace(evenly spaced values)\n",
    "import numpy as np\n",
    "random_array = np.random.random((2,2)) #random values between 0 and 1\n",
    "print(random_array)"
   ]
  },
  {
   "cell_type": "code",
   "execution_count": 40,
   "id": "8a705794-11b6-48fc-a8bc-2c776cb034d1",
   "metadata": {},
   "outputs": [
    {
     "name": "stdout",
     "output_type": "stream",
     "text": [
      "[1. 2. 3.]\n",
      "float32\n"
     ]
    }
   ],
   "source": [
    "#to find the datatype of a array\n",
    "import numpy as np\n",
    "array = np.array([1,2,3], dtype=np.float32) #we have per defined the datatype and bit(32,64)\n",
    "print(array)\n",
    "print(array.dtype)"
   ]
  },
  {
   "cell_type": "code",
   "execution_count": 48,
   "id": "75f3fccd-f866-4843-bd0c-ddeb4b4091e5",
   "metadata": {},
   "outputs": [
    {
     "name": "stdout",
     "output_type": "stream",
     "text": [
      "[1 2 3]\n",
      "int64\n",
      "[1.2  5.22]\n",
      "float64\n",
      "[ True False]\n",
      "bool\n",
      "[1.+2.j]\n",
      "complex128\n"
     ]
    }
   ],
   "source": [
    "#to find the data type of a array\n",
    "import numpy as np\n",
    "array = np.array([1,2,3]) \n",
    "print(array)\n",
    "print(array.dtype)\n",
    "array_float=np.array([1.20,5.22])\n",
    "print(array_float)\n",
    "print(array_float.dtype)\n",
    "array_bool = np.array([True,False])\n",
    "print(array_bool)\n",
    "print(array_bool.dtype)\n",
    "array_complex = np.array([1 + 2j])\n",
    "print(array_complex)\n",
    "print(array_complex.dtype)"
   ]
  },
  {
   "cell_type": "code",
   "execution_count": null,
   "id": "f96e6e81-9228-42e8-af81-a0cb8020c49c",
   "metadata": {},
   "outputs": [],
   "source": []
  }
 ],
 "metadata": {
  "kernelspec": {
   "display_name": "Python 3 (ipykernel)",
   "language": "python",
   "name": "python3"
  },
  "language_info": {
   "codemirror_mode": {
    "name": "ipython",
    "version": 3
   },
   "file_extension": ".py",
   "mimetype": "text/x-python",
   "name": "python",
   "nbconvert_exporter": "python",
   "pygments_lexer": "ipython3",
   "version": "3.10.6"
  }
 },
 "nbformat": 4,
 "nbformat_minor": 5
}
